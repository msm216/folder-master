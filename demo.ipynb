{
 "cells": [
  {
   "attachments": {},
   "cell_type": "markdown",
   "metadata": {},
   "source": [
    "- target-folder\n",
    "    - English_EN\n",
    "        - MaxiCharger AC\n",
    "            - Wallbox\n",
    "                - Installation and Operation Manual\n",
    "                    - arch\n",
    "                - Quick Guide\n",
    "                    - arch\n",
    "                - Pedestal EP\n",
    "                    - Quick Guide\n",
    "                        - arch\n",
    "            - Compact\n",
    "                - ...\n",
    "            - Ultra\n",
    "                - ...\n",
    "            - Maintenance Manual\n",
    "                - arch\n",
    "            - Pedestal\n",
    "                - Quick Guide\n",
    "                    - arch\n",
    "        - MaxiCharger DC\n",
    "            - Fast\n",
    "                - Installation and Operation Manual\n",
    "                    - arch\n",
    "                - Service Manual\n",
    "                    - arch\n",
    "                - CMS\n",
    "                    - Quick Gduie\n",
    "                        - arch\n",
    "            - Compact\n",
    "                - ...\n",
    "        - Energy Management System\n",
    "                - Operation and Installation Manul\n",
    "                    - arch\n",
    "    - German_DE\n",
    "        - ...\n"
   ]
  },
  {
   "cell_type": "markdown",
   "metadata": {},
   "source": [
    "### Test Folder Description\n",
    "Under folder *\"target-folder\\English_EN\\MaxiCharger AC\\Ultra\\User Manual\"* there are 3 pdf-files and 1 txt-files,<br>\n",
    "one of the pdf-files has unregular name and should not be identified,<br>\n",
    "only the pdf-file that edited on 2023-07-06 should be verified.<br>\n",
    "<br>\n",
    "The document under folder *\"target-folder\\English_EN\\MaxiCharger DC\\Fast\\CMS\\Quick Guide\"* does not exist,<br>\n",
    "so that this document should be recognized as *missing*<br>\n",
    "<br>\n",
    "Under folder *\"target-folder\\French_FR\\MaxiCharger AC\\Wallbox\\Installation and Operation Manual\"* there is one pdf-files named as *\"User Mnual\"*,<br>\n",
    "which does not comply with the naming regulation and should be recognized as *abnormal*<br>\n",
    "<br>\n",
    "In summary, 15 documents shall be available, but only 14 documents will be found, 1 of those is abnormal."
   ]
  },
  {
   "cell_type": "code",
   "execution_count": 81,
   "metadata": {},
   "outputs": [
    {
     "name": "stdout",
     "output_type": "stream",
     "text": [
      "target-folder\\English_EN\\MaxiCharger AC\\Compact\\User Manual ... ['arch'] ... ['MaxiCharger AC Compact - User Manual_20230302_EN.pdf']\n",
      "Document MaxiCharger AC Compact User Manual exists.\n",
      "target-folder\\English_EN\\MaxiCharger AC\\Compact\\Quick Guide ... ['arch'] ... ['MaxiCharger AC Compact - Quick Guide_20230215_EN.pdf']\n",
      "Document MaxiCharger AC Compact Quick Guide exists.\n",
      "target-folder\\English_EN\\MaxiCharger AC\\Ultra\\User Manual ... ['arch'] ... ['MaxiCharger AC Ultra - User Manual_20230706_EN.pdf', 'MaxiCharger AC Ultra - User Manual EU_20230712_EN.txt', 'MiniCharger AC Ultra - User Manual EU_20230505_EN.pdf', 'Some - Random File_20220303_EN.pdf', 'MaxiCharger AC Ultra - User Manual EU_EN.pdf']\n",
      "Document MaxiCharger AC Ultra User Manual exists.\n",
      "target-folder\\English_EN\\MaxiCharger AC\\Ultra\\Quick Guide ... ['arch'] ... ['MaxiCharger AC Ultra - Quick Guide_20230330_EN.pdf']\n",
      "Document MaxiCharger AC Ultra Quick Guide exists.\n",
      "target-folder\\English_EN\\MaxiCharger AC\\Wallbox\\Quick Guide ... ['arch'] ... ['MaxiCharger AC Wallbox - Quick Guide_20230523_EN.pdf']\n",
      "Document MaxiCharger AC Wallbox Quick Guide exists.\n",
      "target-folder\\English_EN\\MaxiCharger AC\\Wallbox\\Pedestal EP\\Quick Guide ... ['arch'] ... ['MaxiCharger AC Wallbox Pedestal EP - Quick Guide_20230512_EN.pdf']\n",
      "Document MaxiCharger AC WallboxPedestal EP Quick Guide exists.\n",
      "target-folder\\English_EN\\MaxiCharger AC\\Wallbox\\Maintenance Manual ... ['arch'] ... ['Maxicharger AC Wallbox - Maintenance Manual EU_20220224_EN.pdf']\n",
      "Document MaxiCharger AC Wallbox Maintenance Manual exists.\n",
      "target-folder\\English_EN\\MaxiCharger AC\\Wallbox\\Installation and Operation Manual ... ['arch'] ... ['MaxiCharger AC Wallbox  - Installation and Operation Manual v3_20230717_EN.pdf']\n",
      "Document MaxiCharger AC Wallbox Installation and Operation Manual exists.\n",
      "target-folder\\English_EN\\MaxiCharger AC\\Pedestal\\Quick Guide ... ['arch'] ... ['MaxiCharger AC Pedestal - Quick Guide_20230223_EN.pdf']\n",
      "Document MaxiCharger AC Pedestal Quick Guide exists.\n",
      "target-folder\\English_EN\\MaxiCharger DC\\Compact\\Installation and Operation Manual ... ['arch'] ... ['MaxiCharger DC Compact - Installation and Operation Manual V2.1_20230505_EN.pdf']\n",
      "Document MaxiCharger DC Compact Installation and Operation Manual exists.\n",
      "target-folder\\English_EN\\MaxiCharger DC\\Compact\\Service Manual ... ['arch'] ... ['MaxiCharger DC Compact - Service Manual_20230413_EN.pdf']\n",
      "Document MaxiCharger DC Compact Service Manual exists.\n",
      "target-folder\\English_EN\\MaxiCharger DC\\Fast\\Installation and Operation Manual ... ['arch'] ... ['MaxiCharger DC Fast - Installation and Operation Manual V2_20230517_EN.pdf']\n",
      "Document MaxiCharger DC Fast Installation and Operation Manual exists.\n",
      "target-folder\\English_EN\\MaxiCharger DC\\Fast\\Service Manual ... ['arch'] ... ['MaxiCharger DC Fast - Service Manual_20230413_EN.pdf']\n",
      "Document MaxiCharger DC Fast Service Manual exists.\n",
      "target-folder\\English_EN\\MaxiCharger DC\\Fast\\CMS\\Quick Guide ... ['arch'] ... []\n",
      "Document MaxiCharger DC FastCMS Quick Guide is missing.\n",
      "target-folder\\English_EN\\Energy Management System\\Operation and Installation Manual ... ['arch'] ... ['Energy Management System - Operation and Installation Manual EU_20230525_EN.pdf']\n",
      "Document Energy Management System  Operation and Installation Manual exists.\n",
      "15 documents shall be available.\n",
      "14 documents has been found.\n"
     ]
    }
   ],
   "source": [
    "import os\n",
    "import re\n",
    "\n",
    "verif = False\n",
    "doc_num = 0\n",
    "fund_num = 0\n",
    "\n",
    "for root, dirs, files in os.walk(os.path.join('target-folder', 'English_EN')):\n",
    "    if \"arch\" in dirs:\n",
    "        doc_num += 1\n",
    "        print(root, \"...\", dirs, \"...\", files)\n",
    "        pattern_1 = r\".*\\\\([A-Z][a-zA-Z]+)_(\\w{2})\\\\(MaxiCharger (AC|DC))(.*\\\\)(.+ (Guide|Manual))$\"\n",
    "        pattern_2 = r\".*\\\\([A-Z][a-zA-Z]+)_(\\w{2})\\\\(Energy Management System)(.*\\\\)(.+ (Guide|Manual))$\"\n",
    "        match_1 = re.match(pattern_1, root)\n",
    "        match_2 = re.match(pattern_2, root)\n",
    "        if match_1:\n",
    "            category = match_1.group(3)\n",
    "            object = match_1.group(5).replace(\"\\\\\", \"\")\n",
    "            document = match_1.group(6)    \n",
    "        elif match_2:\n",
    "            category = match_2.group(3)\n",
    "            object = match_2.group(4).replace(\"\\\\\", \"\")\n",
    "            document = match_2.group(5)\n",
    "        else:\n",
    "            print(\"Document path '%s' not correct.\" % (root))\n",
    "        if len(files)!=0:\n",
    "            fund_num += 1\n",
    "            print(\"Document {0} {1} {2} exists.\".format(category, object, document))\n",
    "        else:\n",
    "            print(\"Document {0} {1} {2} is missing.\".format(category, object, document))\n",
    "    else:\n",
    "        pass\n",
    "\n",
    "print(\"%d documents shall be available.\" % (doc_num))\n",
    "print(\"%d documents has been found.\" % (fund_num))"
   ]
  },
  {
   "cell_type": "markdown",
   "metadata": {},
   "source": [
    "#### Function 1: path_matcher()\n",
    "The function *path_matcher()* analizes the path as argument, extract the information that the name of document under this path **MUST** contain."
   ]
  },
  {
   "cell_type": "code",
   "execution_count": 45,
   "metadata": {},
   "outputs": [
    {
     "name": "stdout",
     "output_type": "stream",
     "text": [
      "('MaxiCharger AC', '', 'Maintenance Manual')\n"
     ]
    }
   ],
   "source": [
    "import re\n",
    "\n",
    "#root = 'target-folder\\\\English_EN\\\\MaxiCharger AC\\\\Wallbox\\\\Pedestal EP\\\\Quick Guide'\n",
    "#root = 'target-folder\\\\English_EN\\\\MaxiCharger AC\\\\Wallbox\\\\Installation and Operation Manual'\n",
    "#root = 'target-folder\\\\English_EN\\\\MaxiCharger AC\\\\Wallbox\\\\Pedestal EP\\\\'\n",
    "#root = 'target-folder\\\\English_EN\\\\Energy Management System\\\\Operation and Installation Manual'\n",
    "root = 'target-folder\\\\English_EN\\\\MaxiCharger AC\\\\Maintenance Manual'\n",
    "\n",
    "def path_matcher(root:str) -> tuple[str, str, str]:\n",
    "    pattern_1 = r\".*\\\\([A-Z][a-zA-Z]+)_(\\w{2})\\\\(MaxiCharger (AC|DC))(.*)(\\\\.+ (Guide|Manual))$\"\n",
    "    pattern_2 = r\".*\\\\([A-Z][a-zA-Z]+)_(\\w{2})\\\\(Energy Management System)(.*)(\\\\.+ (Guide|Manual))$\"\n",
    "    match_1 = re.match(pattern_1, root)\n",
    "    match_2 = re.match(pattern_2, root)\n",
    "    if match_1:\n",
    "        category = match_1.group(3)\n",
    "        object = match_1.group(5).replace(\"\\\\\", \" \").strip()\n",
    "        document = match_1.group(6).replace(\"\\\\\", \"\")     \n",
    "    elif match_2:\n",
    "        category = match_2.group(3)\n",
    "        object = ''\n",
    "        document = match_2.group(5).replace(\"\\\\\", \"\")  \n",
    "    else:\n",
    "        print(\"Path '%s' is not correct.\" % (root))\n",
    "        category = 'null'\n",
    "        object = 'null'\n",
    "        document = 'null'\n",
    "    return category, object, document\n",
    "\n",
    "t = path_matcher(root)\n",
    "print(t)"
   ]
  },
  {
   "cell_type": "markdown",
   "metadata": {},
   "source": [
    "#### Function 2: name_matcher()\n",
    "The function ***name matcher*** analizes the *list of files* as argument under given path. Collect name and release date of pdf-file in a *dictionary*, who's name complies the naming regulation. The pdf-file that edited recently  "
   ]
  },
  {
   "cell_type": "code",
   "execution_count": 58,
   "metadata": {},
   "outputs": [
    {
     "name": "stdout",
     "output_type": "stream",
     "text": [
      "Latest file MaxiCharger AC - Maintenance Manual EU_20220224_EN.pdf edited on 2022-02-24 verified.\n",
      "MaxiCharger AC - Maintenance Manual EU_20220224_EN.pdf 2022-02-24 True\n"
     ]
    }
   ],
   "source": [
    "import os\n",
    "import re\n",
    "\n",
    "from datetime import datetime\n",
    "\n",
    "'''\n",
    "# case 0\n",
    "files = []\n",
    "path_info = ('MaxiCharger AC', 'Ultra', 'User Manual')\n",
    "'''\n",
    "'''\n",
    "# case 1\n",
    "files = ['MaxiCharger AC Ultra - User Manual EU_EN.pdf', \n",
    "         'MaxiCharger AC Ultra - User Manual EU_20230712_EN.txt',\n",
    "         'MaxiCharger AC Ultra - User Manual_20230706_EN.pdf', \n",
    "         'MiniCharger AC Ultra - User Manual EU_20230505_EN.pdf',\n",
    "         'Some - Random File_20220303_EN.pdf']\n",
    "root = 'target-folder\\\\English_EN\\\\MaxiCharger AC\\\\Ultra\\\\User Manual'\n",
    "path_info = ('MaxiCharger AC', 'Ultra', 'User Manual')\n",
    "'''\n",
    "'''\n",
    "# case 2\n",
    "files = ['Energy Management System - Operation and Installation Manual EU_20230525_EN.pdf']\n",
    "path_info = ('Energy Management System', '', 'Operation and Installation Manual')\n",
    "'''\n",
    "# case 3\n",
    "files = ['MaxiCharger AC - Maintenance Manual EU_20220224_EN.pdf']\n",
    "root = 'target-folder\\\\English_EN\\\\MaxiCharger AC\\\\Maintenance Manual'\n",
    "path_info = ('MaxiCharger AC', '', 'Maintenance Manual')\n",
    "\n",
    "\n",
    "def name_matcher (root:str, path_info:tuple[str, str, str], files:list) -> tuple[str, str]:\n",
    "    # initial dict of all existing pdf files\n",
    "    pdf_files = {}\n",
    "    result = False\n",
    "    # get formal file name\n",
    "    p1, p2, p3 = path_info\n",
    "    file_name = (p1 + ' ' + p2 if len(p2)>0 else p1) + ' - ' + p3\n",
    "    '''\n",
    "    pattern_part = r\"%s %s - %s(?:.*)?.*.pdf$\" % path_info\n",
    "    pattern_full = r\"%s %s - %s(?:.*)?_(\\d{4})(\\d{2})(\\d{2})_(\\w{2}).pdf$\" % path_info\n",
    "    '''\n",
    "    pattern_part = file_name + '(?:.*)?.*.pdf$'\n",
    "    pattern_full = file_name + '(?:.*)?_(\\d{4})(\\d{2})(\\d{2})_(\\w{2}).pdf$'\n",
    "    pattern_pdf = r\".*.pdf$\"\n",
    "    # if appropriate pdf file exists under the \n",
    "    for file in files:\n",
    "        # fuzzy match\n",
    "        match_part = re.match(pattern_part, file, re.IGNORECASE)\n",
    "        if match_part:\n",
    "            result = True\n",
    "            match_full = re.match(pattern_full, file, re.IGNORECASE)\n",
    "            if match_full:\n",
    "                release = f\"{match_full.group(1)}-{match_full.group(2)}-{match_full.group(3)}\"\n",
    "            else:\n",
    "                release = datetime.fromtimestamp(os.path.getmtime(os.path.join(root, file))).strftime(r\"%Y-%m-%d\")\n",
    "            pdf_files.setdefault(file, release)\n",
    "        else:\n",
    "            match_pdf = re.match(pattern_pdf, file)\n",
    "            if match_pdf:\n",
    "                print(\"Unregular named file: %s detected.\" % (file))\n",
    "            else:\n",
    "                print(\"Non-pdf file: %s detected.\" % (file))\n",
    "            pass\n",
    "    try:\n",
    "        # returns full file name and its release date\n",
    "        latest_file, latest_release = max(pdf_files.items(), key=lambda item: item[1])\n",
    "        print(f\"Latest file {latest_file} edited on {latest_release} verified.\")\n",
    "    except ValueError:\n",
    "        latest_file = 'null'\n",
    "        latest_release = 'null'\n",
    "        print(f\"Document {file_name} is missing.\")\n",
    "    return latest_file, latest_release, result\n",
    "\n",
    "# 如果files为空，则返回null\n",
    "lf, lr, r = name_matcher (root, path_info, files)\n",
    "print(lf, lr, r)"
   ]
  },
  {
   "cell_type": "code",
   "execution_count": 57,
   "metadata": {},
   "outputs": [
    {
     "name": "stdout",
     "output_type": "stream",
     "text": [
      "MaxiCharger AC - Maintenance Manual(?:.*)?.*.pdf$\n",
      "yes\n",
      "yes\n",
      "no\n",
      "yes\n",
      "no\n",
      "no\n"
     ]
    }
   ],
   "source": [
    "# alternative\n",
    "import re\n",
    "\n",
    "files = ['MaxiCharger AC - Maintenance Manual EU_20220224_EN.pdf',\n",
    "         'Maxicharger AC - mainTenAnce ManUal Eu_20220224_eN.pdf', \n",
    "         'MaxiCharger AC - Maintenance Manual EU_20220224_EN.txt', \n",
    "         'maxicharger ac - maintenance manual EU_20220224_EN.pdf',\n",
    "         'minicharger ac - user manual.pdf',\n",
    "         'Some - Random File_20220303_EN.pdf']\n",
    "\n",
    "path_info = ('MaxiCharger AC', '', 'Maintenance Manual')\n",
    "p1, p2, p3 = path_info\n",
    "file_name = (p1 + ' ' + p2 if len(p2)>0 else p1) + ' - ' + p3\n",
    "pattern_part = file_name + '(?:.*)?.*.pdf$'\n",
    "print(pattern_part)\n",
    "\n",
    "for f in files:\n",
    "    if re.match(pattern_part, f, re.IGNORECASE):\n",
    "        print('yes')\n",
    "    else:\n",
    "        print('no')\n"
   ]
  },
  {
   "cell_type": "code",
   "execution_count": 22,
   "metadata": {},
   "outputs": [
    {
     "name": "stdout",
     "output_type": "stream",
     "text": [
      "MaxiCharger AC Ultra - User Manual_20230706_EN.pdf 2023-07-06\n"
     ]
    }
   ],
   "source": [
    "d = {'MaxiCharger AC Ultra - User Manual EU_EN.pdf': '2023-06-23', 'MaxiCharger AC Ultra - User Manual_20230706_EN.pdf': '2023-07-06'}\n",
    "max_key, max_value = max(d.items(), key=lambda item: item[1])\n",
    "print(max_key, max_value)"
   ]
  },
  {
   "cell_type": "code",
   "execution_count": 46,
   "metadata": {},
   "outputs": [
    {
     "name": "stdout",
     "output_type": "stream",
     "text": [
      "2023-07-23\n"
     ]
    }
   ],
   "source": [
    "from datetime import datetime\n",
    "\n",
    "current_date = datetime.now().strftime(r\"%Y-%m-%d\")\n",
    "print(current_date)"
   ]
  },
  {
   "cell_type": "code",
   "execution_count": 49,
   "metadata": {},
   "outputs": [
    {
     "name": "stdout",
     "output_type": "stream",
     "text": [
      "['f1.pdf']\n"
     ]
    }
   ],
   "source": [
    "fs = ['f1.pdf', 'f2.exe']\n",
    "print([f for f in fs if f.endswith('.pdf')])"
   ]
  },
  {
   "cell_type": "markdown",
   "metadata": {},
   "source": [
    "#### Function 3: file_extractor()\n",
    "The function file extractor get the edit and release times, also the language code of the selected pdf file."
   ]
  },
  {
   "cell_type": "code",
   "execution_count": 55,
   "metadata": {},
   "outputs": [
    {
     "name": "stdout",
     "output_type": "stream",
     "text": [
      "Latest file MaxiCharger AC Compact - User Manual_20230302_EN.pdf edited on 2023-03-02 verified.\n",
      "Latest file MaxiCharger AC Compact - Quick Guide_20230215_EN.pdf edited on 2023-02-15 verified.\n",
      "Non-pdf file: MaxiCharger AC Ultra - User Manual EU_20230712_EN.txt detected.\n",
      "Unregular named file: MiniCharger AC Ultra - User Manual EU_20230505_EN.pdf detected.\n",
      "Unregular named file: Some - Random File_20220303_EN.pdf detected.\n",
      "Latest file MaxiCharger AC Ultra - User Manual_20230706_EN.pdf edited on 2023-07-06 verified.\n",
      "Latest file MaxiCharger AC Ultra - Quick Guide_20230330_EN.pdf edited on 2023-03-30 verified.\n",
      "Latest file MaxiCharger AC Wallbox - Quick Guide_20230523_EN.pdf edited on 2023-05-23 verified.\n",
      "Latest file MaxiCharger AC Wallbox Pedestal EP - Quick Guide_20230512_EN.pdf edited on 2023-05-12 verified.\n",
      "Latest file MaxiCharger AC Wallbox - Installation and Operation Manual v3_20230717_EN.pdf edited on 2023-07-17 verified.\n",
      "Latest file MaxiCharger AC Pedestal - Quick Guide_20230223_EN.pdf edited on 2023-02-23 verified.\n",
      "Latest file MaxiCharger AC - Maintenance Manual EU_20220224_EN.pdf edited on 2022-02-24 verified.\n",
      "Latest file MaxiCharger DC Compact - Installation and Operation Manual V2.1_20230505_EN.pdf edited on 2023-05-05 verified.\n",
      "Latest file MaxiCharger DC Compact - Service Manual_20230413_EN.pdf edited on 2023-04-13 verified.\n",
      "Latest file MaxiCharger DC Fast - Installation and Operation Manual V2_20230517_EN.pdf edited on 2023-05-17 verified.\n",
      "Latest file MaxiCharger DC Fast - Service Manual_20230413_EN.pdf edited on 2023-04-13 verified.\n",
      "Document MaxiCharger DC Fast CMS - Quick Guide is missing.\n",
      "Latest file Energy Management System - Operation and Installation Manual EU_20230525_EN.pdf edited on 2023-05-25 verified.\n",
      "15 documents shall be available.\n",
      "14 documents has been found.\n"
     ]
    }
   ],
   "source": [
    "import os\n",
    "import csv\n",
    "import re\n",
    "\n",
    "from datetime import datetime\n",
    "\n",
    "# 目标文件夹根目录\n",
    "target_folder = \"target-folder\"  \n",
    "\n",
    "# 获取所有语言分类子文件夹的路径\n",
    "#lang_folders = [folder for folder in os.listdir(target_folder) if os.path.isdir(os.path.join(target_folder, folder))]\n",
    "#lang_folders.remove('English_EN')\n",
    "\n",
    "lang_folder = 'English_EN'\n",
    "lang_code = re.match(r\"([A-Z][a-zA-Z]+)_(\\w{2})\", lang_folder).group(2)  # EN\n",
    "\n",
    "csv_file = f\"{lang_code}_log.csv\"  # EN_log.csv\n",
    "csv_path = os.path.join(target_folder, lang_folder, csv_file)\n",
    "\n",
    "\"\"\"\n",
    "\"\"\"\n",
    "doc_num = 0\n",
    "fund_num = 0\n",
    "# 打开CSV文件并写入表头\n",
    "with open(csv_path, 'w', newline='') as csv_file:\n",
    "    writer = csv.writer(csv_file)\n",
    "    writer.writerow([\"language\", \"category\", \"object\", \"document\", \"release\"])\n",
    "    # 遍历目标文件夹下的所有内容\n",
    "    for root, dirs, files in os.walk(os.path.join(target_folder, lang_folder)):\n",
    "        # 只处理包含arch子项的文件夹\n",
    "        if \"arch\" in dirs:\n",
    "            doc_num += 1\n",
    "            path_info = path_matcher(root)\n",
    "            category, object, document = path_info\n",
    "            file, release, result = name_matcher (root, path_info, files)\n",
    "            fund_num += int(result)\n",
    "            pass\n",
    "        writer.writerow([lang_code, category, object, document, release])\n",
    "\n",
    "print(\"%d documents shall be available.\" % (doc_num))\n",
    "print(\"%d documents has been found.\" % (fund_num))\n",
    "        \n"
   ]
  },
  {
   "cell_type": "markdown",
   "metadata": {},
   "source": [
    "#### Function 4: md_writer()\n",
    "The function file extractor get the edit and release times, also the language code of the selected pdf file."
   ]
  },
  {
   "cell_type": "code",
   "execution_count": 132,
   "metadata": {},
   "outputs": [
    {
     "name": "stdout",
     "output_type": "stream",
     "text": [
      "['f1.pdf']\n"
     ]
    }
   ],
   "source": [
    "import os\n",
    "import csv\n",
    "\n",
    "from datetime import datetime\n",
    "\n",
    "target_folder = \"target-folder\" \n",
    "lang_folders = ['English_EN']\n",
    "\n",
    "# 生成 README.md 文件\n",
    "readme_path = os.path.join(target_folder, \"README.md\")\n",
    "\n",
    "with open(readme_path, \"w\") as readme_file:\n",
    "    readme_file.write(\"# verification result\\n\\n\")\n",
    "    readme_file.write(\"# verification result\\n\\n\")\n",
    "    for lang_folder in lang_folders:\n",
    "        lang_code = lang_folder.split(\"_\")[-1]\n",
    "        csv_file = f\"{lang_code}_verification.csv\"\n",
    "        csv_path = os.path.join(lang_folder, csv_file)\n",
    "\n",
    "        readme_file.write(f\"## {lang_code}\\n\\n\")\n",
    "        readme_file.write(f\"| language | category | object | document | update | status |\\n\")\n",
    "        readme_file.write(f\"| --- | --- | --- | --- | --- | --- |\\n\")\n",
    "        readme_file.write(f\"| [CSV file](./{csv_path}) |\\n\\n\")"
   ]
  },
  {
   "cell_type": "code",
   "execution_count": 13,
   "metadata": {},
   "outputs": [],
   "source": [
    "import os\n",
    "\n",
    "test_folder = \"test-folder\" \n",
    "rm_path = os.path.join(test_folder, \"README.md\")\n",
    "\n",
    "values = (\"v1\", \"v2\", \"v3\", \"v4\", \"v5\", \"v6\")\n",
    "\n",
    "with open(rm_path, \"w\") as rm_file:\n",
    "    rm_file.write(\"# Titel level 1\\n\")\n",
    "    rm_file.write(\"## Titel level 2\\n\")\n",
    "    rm_file.write(\"### Titel level 3\\n\")\n",
    "    rm_file.write(\"#### Titel level 4\\n\")\n",
    "    rm_file.write(\"first line<br>\\n\")\n",
    "    rm_file.write(\"second line<br>\\n\\n\")\n",
    "    rm_file.write(f\"| language | category | object | document | update | status |\\n\")\n",
    "    rm_file.write(f\"| --- | --- | --- | --- | --- | --- |\\n\")\n",
    "    for i in range(10):\n",
    "        rm_file.write(f\"| {values[0]} | {values[1]} | {values[2]} | {values[3]} | {values[4]} | {values[5]} |\\n\")\n",
    "    "
   ]
  },
  {
   "cell_type": "code",
   "execution_count": null,
   "metadata": {},
   "outputs": [],
   "source": []
  },
  {
   "cell_type": "code",
   "execution_count": null,
   "metadata": {},
   "outputs": [],
   "source": []
  },
  {
   "cell_type": "code",
   "execution_count": null,
   "metadata": {},
   "outputs": [],
   "source": []
  },
  {
   "cell_type": "code",
   "execution_count": null,
   "metadata": {},
   "outputs": [],
   "source": []
  },
  {
   "cell_type": "code",
   "execution_count": null,
   "metadata": {},
   "outputs": [],
   "source": [
    "import os\n",
    "\n",
    "# 原始目录和目标目录\n",
    "source_dir = \"./test-folder/English_EN\\MaxiCharger AC/Wallbox/User Manual\"\n",
    "target_dir = \"./test-folder/English_EN\\MaxiCharger AC/Wallbox/User Manual\"\n",
    "\n",
    "# 遍历源目录下的所有文件\n",
    "for filename in os.listdir(source_dir):\n",
    "    if filename.endswith(\".pdf\"):\n",
    "        # 构建源文件路径和目标文件路径\n",
    "        source_file = os.path.join(source_dir, filename)\n",
    "        target_file = os.path.join(target_dir, filename)\n",
    "        \n",
    "        # 将目标文件路径中的文件名替换为指定的 filename\n",
    "        target_file = os.path.join(target_dir, filename.replace(\".pdf\", \"_\" + filename))\n",
    "        \n",
    "        # 重命名文件\n",
    "        os.rename(source_file, target_file)"
   ]
  },
  {
   "cell_type": "code",
   "execution_count": null,
   "metadata": {},
   "outputs": [],
   "source": []
  }
 ],
 "metadata": {
  "kernelspec": {
   "display_name": "Python 3",
   "language": "python",
   "name": "python3"
  },
  "language_info": {
   "codemirror_mode": {
    "name": "ipython",
    "version": 3
   },
   "file_extension": ".py",
   "mimetype": "text/x-python",
   "name": "python",
   "nbconvert_exporter": "python",
   "pygments_lexer": "ipython3",
   "version": "3.10.11"
  },
  "orig_nbformat": 4
 },
 "nbformat": 4,
 "nbformat_minor": 2
}
