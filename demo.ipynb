{
 "cells": [
  {
   "attachments": {},
   "cell_type": "markdown",
   "metadata": {},
   "source": [
    "- target-folder\n",
    "    - English_EN\n",
    "        - MaxiCharger AC\n",
    "            - Wallbox\n",
    "                - Installation and Operation Manual\n",
    "                    - arch\n",
    "                - Quick Guide\n",
    "                    - arch\n",
    "                - Maintenance Manual\n",
    "                    - arch\n",
    "                - Pedestal\n",
    "                    - Quick Guide\n",
    "                        - arch\n",
    "                - Pedestal EP\n",
    "                    - Quick Guide\n",
    "                        - arch\n",
    "                - Energy Management System\n",
    "                    - Operation and Installation Manul\n",
    "                        - arch\n",
    "            - Compact\n",
    "                - ...\n",
    "            - Ultra\n",
    "                - ...\n",
    "        - MaxiCharger DC\n",
    "            - Fast\n",
    "                - Installation and Operation Manual\n",
    "                    - arch\n",
    "                - Service Manual\n",
    "                    - arch\n",
    "                - CMS\n",
    "                    - Quick Gduie\n",
    "                        - arch\n",
    "            - Compact\n",
    "                - ...\n",
    "    - German_DE\n",
    "        - ...\n"
   ]
  },
  {
   "cell_type": "markdown",
   "metadata": {},
   "source": [
    "### Test Folder Description\n",
    "Under folder *\"target-folder\\English_EN\\MaxiCharger AC\\Ultra\\User Manual\"* there are 3 pdf-files and 1 txt-files,<br>\n",
    "only the pdf-file that edited on 2023-07-06 should be verified.<br>\n",
    "<br>\n",
    "The document under folder *\"target-folder\\English_EN\\MaxiCharger DC\\Fast\\CMS\\Quick Guide\"* is missing,<br>\n",
    "so that this document should be recognized as *missing*<br>\n",
    "<br>\n",
    "Under folder *\"target-folder\\French_FR\\MaxiCharger AC\\Wallbox\\Installation and Operation Manual\"* there is one pdf-files named as *\"User Mnual\"*,<br>\n",
    "which does not comply with the naming regulation and should be recognized as *abnormal*<br>\n",
    "<br>\n",
    "In summary, 15 documents shall be available, but only 14 documents will be found, 1 of those is abnormal."
   ]
  },
  {
   "cell_type": "markdown",
   "metadata": {},
   "source": [
    "#### Function 1: path_matcher()\n",
    "The function path matcher"
   ]
  },
  {
   "cell_type": "code",
   "execution_count": 50,
   "metadata": {},
   "outputs": [
    {
     "name": "stdout",
     "output_type": "stream",
     "text": [
      "MaxiCharger AC Wallbox Pedestal EP Quick Guide\n"
     ]
    }
   ],
   "source": [
    "import re\n",
    "\n",
    "root = 'target-folder\\English_EN\\MaxiCharger AC\\Wallbox\\Pedestal EP\\Quick Guide'\n",
    "#root = 'target-folder\\English_EN\\MaxiCharger AC\\Wallbox\\Pedestal EP\\'\n",
    "\n",
    "def path_matcher(root:str):\n",
    "    try:\n",
    "        pattern = r\".*\\\\([A-Z][a-zA-Z]+)_(\\w{2})\\\\(MaxiCharger (AC|DC))\\\\(.*)\\\\(.+ (Guide|Manual))$\"\n",
    "        match = re.match(pattern, root)\n",
    "        category = match.group(3)\n",
    "        object = match.group(5).replace(\"\\\\\", \" \")\n",
    "        document = match.group(6)\n",
    "    except AttributeError:\n",
    "        print(\"Document path '{0}' not correct.\".format(root))\n",
    "        category = 'null'\n",
    "        object = 'null'\n",
    "        document = 'null'\n",
    "    return category, object, document\n",
    "\n",
    "c, o, d = path_matcher(root)\n",
    "print(c, o, d)"
   ]
  },
  {
   "cell_type": "markdown",
   "metadata": {},
   "source": [
    "#### Function 2: name_matcher()\n",
    "The function name matcher analizes the files under given path. Collect all pdf files "
   ]
  },
  {
   "cell_type": "code",
   "execution_count": null,
   "metadata": {},
   "outputs": [
    {
     "name": "stdout",
     "output_type": "stream",
     "text": [
      "MaxiCharger AC Ultra User Manual\n"
     ]
    }
   ],
   "source": [
    "import re\n",
    "\n",
    "files = ['MaxiCharger AC Ultra - User Manual EU_20230621_EN.pdf', \n",
    "         'MaxiCharger AC Ultra - User Manual EU_20230706_EN.pdf', \n",
    "         'MaxiCharger AC Ultra - User Manual EU_20230712_EN.txt', \n",
    "         'MiniCharger AC Ultra - User Manual EU_20230505_EN.pdf']\n",
    "\n",
    "cat = 'MaxiCharger AC'\n",
    "obj = 'Ultra'\n",
    "doc = 'User Manual'\n",
    "\n",
    "def name_matcher (root):\n",
    "    pattern = r\"%d %d - %d_(\\d{4})(\\d{2})(\\d{2})_(\\w{2}).pdf$\" % (cat, obj, doc)\n",
    "    match = re.match(pattern, root)\n",
    "    category = match.group(3)\n",
    "    object = match.group(5).replace(\"\\\\\", \" \")\n",
    "    document = match.group(6)\n",
    "    return category, object, document\n",
    "\n",
    "c, o, d = name_matcher (\"target-folder\\\\English_EN\\\\MaxiCharger AC\\\\Ultra\\\\User Manual\")\n",
    "print(c, o, d)"
   ]
  },
  {
   "cell_type": "code",
   "execution_count": 51,
   "metadata": {},
   "outputs": [
    {
     "name": "stdout",
     "output_type": "stream",
     "text": [
      "MaxiCharger AC Ultra - User Manual(?: EU)?_(\\d{4})(\\d{2})(\\d{2})_(\\w{2}).pdf$\n"
     ]
    },
    {
     "data": {
      "text/plain": [
       "'2023'"
      ]
     },
     "execution_count": 51,
     "metadata": {},
     "output_type": "execute_result"
    }
   ],
   "source": [
    "import re\n",
    "\n",
    "cat = 'MaxiCharger AC'\n",
    "obj = 'Ultra'\n",
    "doc = 'User Manual'\n",
    "\n",
    "p = r\"%s %s - %s(?: EU)?_(\\d{4})(\\d{2})(\\d{2})_(\\w{2}).pdf$\" % (cat, obj, doc)\n",
    "s = 'MaxiCharger AC Ultra - User Manual EU_20230505_EN.pdf'\n",
    "\n",
    "print(p)\n",
    "match = re.match(p, s)\n",
    "match.group(1)"
   ]
  },
  {
   "cell_type": "code",
   "execution_count": 46,
   "metadata": {},
   "outputs": [
    {
     "name": "stdout",
     "output_type": "stream",
     "text": [
      "Update: 2023-05-05\n",
      "Language Code: EN\n"
     ]
    }
   ],
   "source": [
    "import re\n",
    "\n",
    "cat = 'MaxiCharger AC'\n",
    "obj = 'Ultra'\n",
    "doc = 'User Manual'\n",
    "\n",
    "p = r\"%s %s(?: EU)? - %s_(\\d{4})(\\d{2})(\\d{2})_(\\w{2}).pdf$\" % (cat, obj, doc)\n",
    "s = 'MaxiCharger AC Ultra EU - User Manual_20230505_EN.pdf'\n",
    "\n",
    "match = re.match(p, s)\n",
    "if match:\n",
    "    print(\"Update:\", f\"{match.group(1)}-{match.group(2)}-{match.group(3)}\")\n",
    "    print(\"Language Code:\", match.group(4))\n",
    "else:\n",
    "    print(\"No match found.\")"
   ]
  },
  {
   "cell_type": "markdown",
   "metadata": {},
   "source": [
    "#### Function 3: file_extractor()\n",
    "The function file extractor get the edit and release times, also the language code of the selected pdf file."
   ]
  },
  {
   "cell_type": "code",
   "execution_count": 9,
   "metadata": {},
   "outputs": [
    {
     "name": "stdout",
     "output_type": "stream",
     "text": [
      "MaxiCharger AC Ultra - User Manual EU_20230706_EN.pdf \n",
      " 2023-07-06\n"
     ]
    }
   ],
   "source": [
    "import os\n",
    "from datetime import datetime\n",
    "\n",
    "root = 'target-folder\\\\English_EN\\\\MaxiCharger AC\\\\Ultra\\\\User Manual'\n",
    "files = ['MaxiCharger AC Ultra - User Manual EU_20230621_EN.pdf', 'MaxiCharger AC Ultra - User Manual EU_20230706_EN.pdf', 'MaxiCharger AC Ultra - User Manual EU_20230712_EN.txt']\n",
    "#files = []\n",
    "\n",
    "def file_extractor(root:str, files:list):\n",
    "    try:\n",
    "        latest_file = max([file for file in files if file.endswith('.pdf')], key=lambda f: os.path.getmtime(os.path.join(root, f)))\n",
    "        edit_time = os.path.getmtime(os.path.join(root, latest_file))\n",
    "        formatted_time = datetime.fromtimestamp(edit_time).strftime(r\"%Y-%m-%d\")\n",
    "    except:\n",
    "        latest_file = 'null'\n",
    "        formatted_time = 'null'\n",
    "    return latest_file, formatted_time\n",
    "\n",
    "ff, tt = file_extractor(root, files)\n",
    "print(ff, '\\n', tt)"
   ]
  },
  {
   "cell_type": "code",
   "execution_count": 48,
   "metadata": {},
   "outputs": [
    {
     "name": "stdout",
     "output_type": "stream",
     "text": [
      "Release: 2022-02-24\n",
      "Language: EN\n"
     ]
    }
   ],
   "source": [
    "# 根据文件名提取日期和语言\n",
    "\n",
    "import re\n",
    "\n",
    "filename = \"Maxicharger AC - Maintenance Manual EU_20220224_EN.pdf\"\n",
    "pattern = r\".*_(\\d{4})(\\d{2})(\\d{2})_(\\w+).pdf\"\n",
    "\n",
    "match = re.match(pattern, filename)\n",
    "\n",
    "if match:\n",
    "    release = f\"{match.group(1)}-{match.group(2)}-{match.group(3)}\"\n",
    "    language_code = match.group(4)\n",
    "    print(\"Release:\", release)\n",
    "    print(\"Language:\", language_code)\n",
    "else:\n",
    "    print(\"No match found.\")"
   ]
  },
  {
   "cell_type": "code",
   "execution_count": 47,
   "metadata": {},
   "outputs": [
    {
     "name": "stdout",
     "output_type": "stream",
     "text": [
      "target-folder\\English_EN\\MaxiCharger AC\\Energy Management System\\Installation and Operation Manual ... ['arch'] ... ['Energy Management System - Operation and Installation Manual EU_20230525_EN.pdf']\n",
      "MaxiCharger AC Energy Management System Installation and Operation Manual is verified.\n",
      "target-folder\\English_EN\\MaxiCharger AC\\Compact\\User Manual ... ['arch'] ... ['MaxiCharger AC Compact - User Manual_20230302_EN.pdf']\n",
      "MaxiCharger AC Compact User Manual is verified.\n",
      "target-folder\\English_EN\\MaxiCharger AC\\Compact\\Quick Guide ... ['arch'] ... ['MaxiCharger AC Compact - Quick Guide_20230215_EN.pdf']\n",
      "MaxiCharger AC Compact Quick Guide is verified.\n",
      "target-folder\\English_EN\\MaxiCharger AC\\Ultra\\User Manual ... ['arch'] ... ['MaxiCharger AC Ultra - User Manual EU_20230621_EN.pdf', 'MaxiCharger AC Ultra - User Manual EU_20230706_EN.pdf', 'MaxiCharger AC Ultra - User Manual EU_20230712_EN.txt']\n",
      "MaxiCharger AC Ultra User Manual is verified.\n",
      "target-folder\\English_EN\\MaxiCharger AC\\Ultra\\Quick Guide ... ['arch'] ... ['MaxiCharger AC Ultra - Quick Guide_20230330_EN.pdf']\n",
      "MaxiCharger AC Ultra Quick Guide is verified.\n",
      "target-folder\\English_EN\\MaxiCharger AC\\Wallbox\\User Manual ... ['arch'] ... ['MaxiCharger AC Wallbox - User Manual v2.2_20230519_EN.pdf']\n",
      "MaxiCharger AC Wallbox User Manual is verified.\n",
      "target-folder\\English_EN\\MaxiCharger AC\\Wallbox\\Quick Guide ... ['arch'] ... ['MaxiCharger AC Wallbox - Quick Guide_20230523_EN.pdf']\n",
      "MaxiCharger AC Wallbox Quick Guide is verified.\n",
      "target-folder\\English_EN\\MaxiCharger AC\\Wallbox\\Pedestal\\Quick Guide ... ['arch'] ... ['MaxiCharger AC Wallbox Pedestal - Quick Guide_20230223_EN.pdf']\n",
      "MaxiCharger AC Wallbox Pedestal Quick Guide is verified.\n",
      "target-folder\\English_EN\\MaxiCharger AC\\Wallbox\\Pedestal EP\\Quick Guide ... ['arch'] ... ['MaxiCharger AC Wallbox Pedestal EP - Quick Guide_20230512_EN.pdf']\n",
      "MaxiCharger AC Wallbox Pedestal EP Quick Guide is verified.\n",
      "target-folder\\English_EN\\MaxiCharger AC\\Wallbox\\Maintenance Manual ... ['arch'] ... ['Maxicharger AC Wallbox - Maintenance Manual EU_20220224_EN.pdf']\n",
      "MaxiCharger AC Wallbox Maintenance Manual is verified.\n",
      "target-folder\\English_EN\\MaxiCharger DC\\Compact\\Installation and Operation Manual ... ['arch'] ... ['MaxiCharger DC Compact - Installation and Operation Manual V2.1_20230505_EN.pdf']\n",
      "MaxiCharger DC Compact Installation and Operation Manual is verified.\n",
      "target-folder\\English_EN\\MaxiCharger DC\\Compact\\Service Manual ... ['arch'] ... ['MaxiCharger DC Compact - Service Manual_20230413_EN.pdf']\n",
      "MaxiCharger DC Compact Service Manual is verified.\n",
      "target-folder\\English_EN\\MaxiCharger DC\\Fast\\Installation and Operation Manual ... ['arch'] ... ['MaxiCharger DC Fast - Installation and Operation Manual V2_20230517_EN.pdf']\n",
      "MaxiCharger DC Fast Installation and Operation Manual is verified.\n",
      "target-folder\\English_EN\\MaxiCharger DC\\Fast\\Service Manual ... ['arch'] ... ['MaxiCharger DC Fast - Service Manual_20230413_EN.pdf']\n",
      "MaxiCharger DC Fast Service Manual is verified.\n",
      "target-folder\\English_EN\\MaxiCharger DC\\Fast\\CMS\\Quick Guide ... ['arch'] ... []\n",
      "MaxiCharger DC Fast CMS Quick Guide is missing.\n",
      "15 documents shall be available.\n",
      "14 documents has been found.\n"
     ]
    }
   ],
   "source": [
    "import os\n",
    "import re\n",
    "\n",
    "verif = False\n",
    "doc_num = 0\n",
    "fund_num = 0\n",
    "\n",
    "for root, dirs, files in os.walk(os.path.join('target-folder', 'English_EN')):\n",
    "    if \"arch\" in dirs:\n",
    "        doc_num += 1\n",
    "        print(root, \"...\", dirs, \"...\", files)\n",
    "        path_pattern = r\".*\\\\([A-Z][a-zA-Z]+)_(\\w{2})\\\\(MaxiCharger (AC|DC))\\\\(.*)\\\\(.+ (Guide|Manual))$\"\n",
    "        path_match = re.match(path_pattern, root)\n",
    "        category = path_match.group(3)\n",
    "        object = path_match.group(5).replace(\"\\\\\", \" \")\n",
    "        document = path_match.group(6)\n",
    "        if len(files)!=0:\n",
    "            fund_num += 1\n",
    "            print(\"{0} {1} {2} is verified.\".format(category, object, document))\n",
    "        else:\n",
    "            print(\"{0} {1} {2} is missing.\".format(category, object, document))\n",
    "    else:\n",
    "        pass\n",
    "\n",
    "print(\"%d documents shall be available.\" % (doc_num))\n",
    "print(\"%d documents has been found.\" % (fund_num))"
   ]
  },
  {
   "cell_type": "code",
   "execution_count": 46,
   "metadata": {},
   "outputs": [
    {
     "data": {
      "text/plain": [
       "''"
      ]
     },
     "execution_count": 46,
     "metadata": {},
     "output_type": "execute_result"
    }
   ],
   "source": []
  },
  {
   "cell_type": "code",
   "execution_count": 32,
   "metadata": {},
   "outputs": [
    {
     "name": "stdout",
     "output_type": "stream",
     "text": [
      "MaxiCharger DC\n",
      "Fast CMS\n",
      "Quick Guide\n",
      "==============================\n",
      "MaxiCharger DC\n",
      "Fast CMS\n",
      "Quick Guide\n",
      "==============================\n",
      "MaxiCharger DC\n",
      "Fast CMS\n",
      "Quick Guide\n",
      "==============================\n",
      "MaxiCharger AC\n",
      "Energy Management System\n",
      "Installation and Operation Manual\n",
      "==============================\n",
      "MaxiCharger AC\n",
      "Energy Management System\n",
      "Installation and Operation Manual\n",
      "==============================\n",
      "MaxiCharger AC\n",
      "Energy Management System\n",
      "Installation and Operation Manual\n",
      "==============================\n",
      "MaxiCharger AC\n",
      "Compact\n",
      "User Manual\n",
      "==============================\n",
      "MaxiCharger AC\n",
      "Compact\n",
      "User Manual\n",
      "==============================\n",
      "MaxiCharger AC\n",
      "Compact\n",
      "Quick Guide\n",
      "==============================\n",
      "MaxiCharger AC\n",
      "Compact\n",
      "Quick Guide\n",
      "==============================\n",
      "MaxiCharger AC\n",
      "Compact\n",
      "Quick Guide\n",
      "==============================\n",
      "MaxiCharger AC\n",
      "Ultra\n",
      "User Manual\n",
      "==============================\n",
      "MaxiCharger AC\n",
      "Ultra\n",
      "User Manual\n",
      "==============================\n",
      "MaxiCharger AC\n",
      "Ultra\n",
      "Quick Guide\n",
      "==============================\n",
      "MaxiCharger AC\n",
      "Ultra\n",
      "Quick Guide\n",
      "==============================\n",
      "MaxiCharger AC\n",
      "Ultra\n",
      "Quick Guide\n",
      "==============================\n",
      "MaxiCharger AC\n",
      "Wallbox\n",
      "User Manual\n",
      "==============================\n",
      "MaxiCharger AC\n",
      "Wallbox\n",
      "User Manual\n",
      "==============================\n",
      "MaxiCharger AC\n",
      "Wallbox\n",
      "Quick Guide\n",
      "==============================\n",
      "MaxiCharger AC\n",
      "Wallbox\n",
      "Quick Guide\n",
      "==============================\n",
      "MaxiCharger AC\n",
      "Wallbox\n",
      "Quick Guide\n",
      "==============================\n",
      "MaxiCharger AC\n",
      "Wallbox Pedestal\n",
      "Quick Guide\n",
      "==============================\n",
      "MaxiCharger AC\n",
      "Wallbox Pedestal\n",
      "Quick Guide\n",
      "==============================\n",
      "MaxiCharger AC\n",
      "Wallbox Pedestal\n",
      "Quick Guide\n",
      "==============================\n",
      "MaxiCharger AC\n",
      "Wallbox Pedestal EP\n",
      "Quick Guide\n",
      "==============================\n",
      "MaxiCharger AC\n",
      "Wallbox Pedestal EP\n",
      "Quick Guide\n",
      "==============================\n",
      "MaxiCharger AC\n",
      "Wallbox\n",
      "Maintenance Manual\n",
      "==============================\n",
      "MaxiCharger AC\n",
      "Wallbox\n",
      "Maintenance Manual\n",
      "==============================\n",
      "MaxiCharger AC\n",
      "Wallbox\n",
      "Maintenance Manual\n",
      "==============================\n",
      "MaxiCharger AC\n",
      "Wallbox\n",
      "Maintenance Manual\n",
      "==============================\n",
      "MaxiCharger DC\n",
      "Compact\n",
      "Installation and Operation Manual\n",
      "==============================\n",
      "MaxiCharger DC\n",
      "Compact\n",
      "Installation and Operation Manual\n",
      "==============================\n",
      "MaxiCharger DC\n",
      "Compact\n",
      "Service Manual\n",
      "==============================\n",
      "MaxiCharger DC\n",
      "Compact\n",
      "Service Manual\n",
      "==============================\n",
      "MaxiCharger DC\n",
      "Compact\n",
      "Service Manual\n",
      "==============================\n",
      "MaxiCharger DC\n",
      "Compact\n",
      "Service Manual\n",
      "==============================\n",
      "MaxiCharger DC\n",
      "Fast\n",
      "Installation and Operation Manual\n",
      "==============================\n",
      "MaxiCharger DC\n",
      "Fast\n",
      "Installation and Operation Manual\n",
      "==============================\n",
      "MaxiCharger DC\n",
      "Fast\n",
      "Service Manual\n",
      "==============================\n",
      "MaxiCharger DC\n",
      "Fast\n",
      "Service Manual\n",
      "==============================\n",
      "MaxiCharger DC\n",
      "Fast\n",
      "Service Manual\n",
      "==============================\n",
      "MaxiCharger DC\n",
      "Fast\n",
      "Service Manual\n",
      "==============================\n",
      "MaxiCharger DC\n",
      "Fast CMS\n",
      "Quick Guide\n",
      "==============================\n",
      "MaxiCharger DC\n",
      "Fast CMS\n",
      "Quick Guide\n",
      "==============================\n",
      "15 documents has been found.\n"
     ]
    }
   ],
   "source": [
    "import os\n",
    "import csv\n",
    "import re\n",
    "\n",
    "from datetime import datetime\n",
    "\n",
    "# 目标文件夹根目录\n",
    "target_folder = \"target-folder\"  \n",
    "\n",
    "# 获取所有语言分类子文件夹的路径\n",
    "#lang_folders = [folder for folder in os.listdir(target_folder) if os.path.isdir(os.path.join(target_folder, folder))]\n",
    "#lang_folders.remove('English_EN')\n",
    "\n",
    "lang_folders = ['English_EN']\n",
    "lang_folder = lang_folders[0]\n",
    "lang_code = re.match(r\"([A-Z][a-zA-Z]+)_(\\w{2})\", lang_folder).group(2)  # EN\n",
    "\n",
    "csv_file = f\"{lang_code}_log.csv\"  # CSV文件名\n",
    "csv_path = os.path.join(target_folder, lang_folder, csv_file)\n",
    "\n",
    "\"\"\"\n",
    "\"\"\"\n",
    "doc_num = 0\n",
    "fund_num = 0\n",
    "# 打开CSV文件并写入表头\n",
    "with open(csv_path, \"w\", newline=\"\") as file:\n",
    "    writer = csv.writer(file)\n",
    "    writer.writerow([\"language\", \"category\", \"object\", \"document\", \"release\"])\n",
    "    # 遍历目标文件夹下的所有内容\n",
    "    for root, dirs, files in os.walk(os.path.join(target_folder, lang_folder)):\n",
    "        # 只处理包含arch子项的文件夹\n",
    "        if \"arch\" in dirs:\n",
    "            doc_num += 1\n",
    "            # 提取路径信息\n",
    "            path_pattern = r\".*\\\\([A-Z][a-zA-Z]+)_(\\w{2})\\\\(MaxiCharger (AC|DC))\\\\(.*)\\\\(.+ (Guide|Manual))$\"\n",
    "            path_match = re.match(path_pattern, root)\n",
    "            category = path_match.group(3)\n",
    "            object = path_match.group(5).replace(\"\\\\\", \" \")\n",
    "            document = path_match.group(6)\n",
    "            if len(files)!=0:\n",
    "                fund_num += 1\n",
    "                \n",
    "                \"\"\"\n",
    "                # 获取目标文件版本信息\n",
    "                file_pattern = r\"(.*)_(\\d{4})(\\d{2})(\\d{2})_(\\w{2}).pdf\"\n",
    "                try:\n",
    "                    # 目标为最新改动过的pdf后缀文件\n",
    "                    latest_file = max([file for file in files if file.endswith('.pdf')], key=lambda f: os.path.getmtime(os.path.join(root, f)))\n",
    "                    # 提取文档版本信息\n",
    "                    file_match = re.match(file_pattern, latest_file)\n",
    "                    release = f\"{file_match.group(2)}-{file_match.group(3)}-{file_match.group(4)}\"\n",
    "                    #lang_code = file_match.group(5)\n",
    "                except:\n",
    "                    latest_file = 'null'\n",
    "                    release = 'null'\n",
    "                \"\"\"\n",
    "        else:\n",
    "            pass\n",
    "            \n",
    "        #print(root)\n",
    "        print(category)\n",
    "        print(object)\n",
    "        print(document)\n",
    "        #print(latest_file)\n",
    "        #print(release)\n",
    "        print('='*30)\n",
    "\n",
    "        #writer.writerow([lang_code, category, object, document, release])\n",
    "\n",
    "print(\"%d documents shall be available.\" % (doc_num))\n",
    "print(\"%d documents has been found.\" % (fund_num))\n",
    "        \n"
   ]
  },
  {
   "cell_type": "code",
   "execution_count": 132,
   "metadata": {},
   "outputs": [
    {
     "name": "stdout",
     "output_type": "stream",
     "text": [
      "['f1.pdf']\n"
     ]
    }
   ],
   "source": [
    "files = ['f1.pdf', 'f2.exe']\n",
    "print([f for f in files if f.endswith('.pdf')])"
   ]
  },
  {
   "cell_type": "code",
   "execution_count": 21,
   "metadata": {},
   "outputs": [
    {
     "name": "stdout",
     "output_type": "stream",
     "text": [
      "English\n",
      "EN\n",
      "MaxiCharger AC\n",
      "Energy Management System\n",
      "Installation and Operation Manual\n"
     ]
    }
   ],
   "source": [
    "import re\n",
    "\n",
    "string = \"target-folder\\English_EN\\MaxiCharger AC\\Energy Management System\\Installation and Operation Manual\"\n",
    "#string = \"target-folder\\English_EN\\MaxiCharger AC\\Maintenance Manual\"\n",
    "# 当object不存在时，该如何匹配？\n",
    "pattern = r\".*\\\\([A-Z][a-zA-Z]+)_(\\w{2})\\\\(MaxiCharger (AC|DC))\\\\(.*)\\\\(.+ (Guide|Manual))$\"\n",
    "\n",
    "match = re.match(pattern, string)\n",
    "\n",
    "if match:\n",
    "    language = match.group(1)\n",
    "    lang_code = match.group(2)\n",
    "    category = match.group(3)\n",
    "    object = match.group(5).replace(\"\\\\\", \" \")\n",
    "    document = match.group(6)\n",
    "    print(language)\n",
    "    print(lang_code)\n",
    "    print(category)\n",
    "    print(object)\n",
    "    print(document)\n",
    "else:\n",
    "    print(\"No match found.\")"
   ]
  },
  {
   "cell_type": "code",
   "execution_count": null,
   "metadata": {},
   "outputs": [],
   "source": [
    "# 遍历每个语言分类子文件夹\n",
    "for lang_folder in language_folders:\n",
    "    lang_code = lang_folder.split(\"_\")[-1]  # 提取语言代码 EN, FR, DE\n",
    "\n",
    "    csv_file = f\"{lang_code}_verification.csv\"  # CSV文件名\n",
    "    csv_path = os.path.join(target_folder, lang_folder, csv_file)\n",
    "\n",
    "    # 打开CSV文件并写入表头\n",
    "    with open(csv_path, \"w\", newline=\"\") as file:\n",
    "        writer = csv.writer(file)\n",
    "        writer.writerow([\"language\", \"category\", \"object\", \"document\", \"update\", \"status\"])\n",
    "\n",
    "        # 遍历每个文档名称文件夹\n",
    "        for root, dirs, files in os.walk(os.path.join(target_folder, lang_folder)):    \n",
    "            # 'target-folder\\\\English_EN'\n",
    "            # ('target-folder\\\\English_EN', ['MaxiCharger AC', 'MaxiCharger DC'], ['EN_verification.csv'])\n",
    "            for folder in dirs:\n",
    "                if \"arch\" in folder:  # 只处理包含arch子文件夹的文档名称文件夹\n",
    "                    doc_folder = os.path.join(root, folder)\n",
    "                    doc_name = folder.replace(\"arch\", \"\").strip()  # 提取文档名称\n",
    "                    product_name = os.path.basename(os.path.dirname(doc_folder))  # 提取产品名称\n",
    "                    product_category = os.path.basename(os.path.dirname(os.path.dirname(doc_folder)))  # 提取产品分类\n",
    "\n",
    "                    pdf_files = [file for file in files if file.lower().endswith(\".pdf\")]\n",
    "                    if pdf_files:\n",
    "                        latest_date = max([datetime.strptime(file.split(\"_\")[2], \"%Y%m%d\") for file in pdf_files])\n",
    "                        status = \"up-to-date\" if lang_folder == \"English_EN\" else \"out-of-date\"\n",
    "                        latest_date_str = datetime.strftime(latest_date, \"%Y%m%d\")\n",
    "                    else:\n",
    "                        latest_date_str = \"null\"\n",
    "                        status = \"null\"\n",
    "\n",
    "                    writer.writerow([lang_code, product_category, product_name, doc_name, latest_date_str, status])"
   ]
  },
  {
   "cell_type": "code",
   "execution_count": null,
   "metadata": {},
   "outputs": [],
   "source": []
  },
  {
   "cell_type": "code",
   "execution_count": null,
   "metadata": {},
   "outputs": [],
   "source": []
  },
  {
   "cell_type": "code",
   "execution_count": null,
   "metadata": {},
   "outputs": [],
   "source": []
  },
  {
   "cell_type": "code",
   "execution_count": null,
   "metadata": {},
   "outputs": [],
   "source": []
  },
  {
   "cell_type": "code",
   "execution_count": null,
   "metadata": {},
   "outputs": [],
   "source": []
  },
  {
   "cell_type": "code",
   "execution_count": 22,
   "metadata": {},
   "outputs": [
    {
     "name": "stdout",
     "output_type": "stream",
     "text": [
      "file-name_20230702_EN\n"
     ]
    }
   ],
   "source": [
    "import datetime\n",
    "\n",
    "# 当天日期\n",
    "current_date = datetime.date.today().strftime(\"%Y%m%d\")\n",
    "# 语言变量\n",
    "language = \"EN\"\n",
    "# 文件名模板\n",
    "filename_template = \"file-name_{0}_{1}\"\n",
    "# 根据模板生成文件名\n",
    "filename = filename_template.format(current_date, language)\n",
    "print(filename)\n"
   ]
  },
  {
   "cell_type": "code",
   "execution_count": null,
   "metadata": {},
   "outputs": [],
   "source": [
    "import os\n",
    "\n",
    "# 原始目录和目标目录\n",
    "source_dir = \"./test-folder/English_EN\\MaxiCharger AC/Wallbox/User Manual\"\n",
    "target_dir = \"./test-folder/English_EN\\MaxiCharger AC/Wallbox/User Manual\"\n",
    "\n",
    "# 遍历源目录下的所有文件\n",
    "for filename in os.listdir(source_dir):\n",
    "    if filename.endswith(\".pdf\"):\n",
    "        # 构建源文件路径和目标文件路径\n",
    "        source_file = os.path.join(source_dir, filename)\n",
    "        target_file = os.path.join(target_dir, filename)\n",
    "        \n",
    "        # 将目标文件路径中的文件名替换为指定的 filename\n",
    "        target_file = os.path.join(target_dir, filename.replace(\".pdf\", \"_\" + filename))\n",
    "        \n",
    "        # 重命名文件\n",
    "        os.rename(source_file, target_file)"
   ]
  },
  {
   "cell_type": "code",
   "execution_count": null,
   "metadata": {},
   "outputs": [],
   "source": []
  }
 ],
 "metadata": {
  "kernelspec": {
   "display_name": "Python 3",
   "language": "python",
   "name": "python3"
  },
  "language_info": {
   "codemirror_mode": {
    "name": "ipython",
    "version": 3
   },
   "file_extension": ".py",
   "mimetype": "text/x-python",
   "name": "python",
   "nbconvert_exporter": "python",
   "pygments_lexer": "ipython3",
   "version": "3.10.11"
  },
  "orig_nbformat": 4
 },
 "nbformat": 4,
 "nbformat_minor": 2
}
