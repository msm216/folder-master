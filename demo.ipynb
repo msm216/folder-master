{
 "cells": [
  {
   "cell_type": "code",
   "execution_count": 2,
   "metadata": {},
   "outputs": [],
   "source": [
    "import os\n",
    "import csv\n",
    "import re\n",
    "\n",
    "from datetime import datetime"
   ]
  },
  {
   "attachments": {},
   "cell_type": "markdown",
   "metadata": {},
   "source": [
    "- test-folder\n",
    "    - category_1\n",
    "        - manual_1\n",
    "            - manual_1.pdf\n",
    "        - product_1\n",
    "            - accessory_1\n",
    "                - manual_4\n",
    "                    - manual_4.pdf\n",
    "            - manual_2\n",
    "                - manual_2.pdf\n",
    "            - manual_3\n",
    "                - manual_3.pdf\n",
    "        - product_2\n",
    "            - manual_5\n",
    "                - manual_5.pdf\n",
    "            - manual_6\n",
    "                - manual_6.pdf\n",
    "            - manual_7\n",
    "                - manual_7.pdf\n",
    "    - category_2\n",
    "        - manual_8\n",
    "            - manual_8.pdf\n",
    "        - product_3\n",
    "            - accessory_2\n",
    "                - manual_11\n",
    "                - manual_12\n",
    "            - manual_9\n",
    "                - manual_9.pdf\n",
    "            - manual_10\n",
    "                - manual_10.pdf"
   ]
  },
  {
   "cell_type": "code",
   "execution_count": 13,
   "metadata": {},
   "outputs": [
    {
     "name": "stdout",
     "output_type": "stream",
     "text": [
      "target-folder\\English_EN ||| ['MaxiCharger AC', 'MaxiCharger DC'] ||| ['EN_verification.csv']\n",
      "target-folder\\English_EN\\MaxiCharger AC ||| ['Energy Management System', 'Compact', 'Ultra', 'Wallbox', 'Maintenance Manual'] ||| []\n",
      "target-folder\\English_EN\\MaxiCharger AC\\Energy Management System ||| ['Installation and Operation Manual'] ||| []\n",
      "target-folder\\English_EN\\MaxiCharger AC\\Energy Management System\\Installation and Operation Manual ||| ['arch'] ||| ['Energy Management System - Operation and Installation Manual EU_20230525_EN.pdf']\n",
      "target-folder\\English_EN\\MaxiCharger AC\\Energy Management System\\Installation and Operation Manual\\arch ||| [] ||| []\n",
      "target-folder\\English_EN\\MaxiCharger AC\\Compact ||| ['User Manual', 'Quick Guide'] ||| []\n",
      "target-folder\\English_EN\\MaxiCharger AC\\Compact\\User Manual ||| ['arch'] ||| ['MaxiCharger AC Compact - User Manual_20230302_EN.pdf']\n",
      "target-folder\\English_EN\\MaxiCharger AC\\Compact\\User Manual\\arch ||| [] ||| []\n",
      "target-folder\\English_EN\\MaxiCharger AC\\Compact\\Quick Guide ||| ['arch'] ||| ['MaxiCharger AC Compact - Quick Guide_20230215_EN.pdf']\n",
      "target-folder\\English_EN\\MaxiCharger AC\\Compact\\Quick Guide\\arch ||| [] ||| []\n",
      "target-folder\\English_EN\\MaxiCharger AC\\Ultra ||| ['User Manual', 'Quick Guide'] ||| []\n",
      "target-folder\\English_EN\\MaxiCharger AC\\Ultra\\User Manual ||| ['arch'] ||| ['MaxiCharger AC Ultra - User Manual EU_20230621_EN.pdf']\n",
      "target-folder\\English_EN\\MaxiCharger AC\\Ultra\\User Manual\\arch ||| [] ||| []\n",
      "target-folder\\English_EN\\MaxiCharger AC\\Ultra\\Quick Guide ||| ['arch'] ||| ['MaxiCharger AC Ultra - Quick Guide_20230330_EN.pdf']\n",
      "target-folder\\English_EN\\MaxiCharger AC\\Ultra\\Quick Guide\\arch ||| [] ||| []\n",
      "target-folder\\English_EN\\MaxiCharger AC\\Wallbox ||| ['User Manual', 'Quick Guide', 'Pedestal', 'Pedestal EP'] ||| []\n",
      "target-folder\\English_EN\\MaxiCharger AC\\Wallbox\\User Manual ||| ['arch'] ||| ['MaxiCharger AC Wallbox - User Manual v2.2_20230519_EN.pdf']\n",
      "target-folder\\English_EN\\MaxiCharger AC\\Wallbox\\User Manual\\arch ||| [] ||| []\n",
      "target-folder\\English_EN\\MaxiCharger AC\\Wallbox\\Quick Guide ||| ['arch'] ||| ['MaxiCharger AC Wallbox - Quick Guide_20230523_EN.pdf']\n",
      "target-folder\\English_EN\\MaxiCharger AC\\Wallbox\\Quick Guide\\arch ||| [] ||| []\n",
      "target-folder\\English_EN\\MaxiCharger AC\\Wallbox\\Pedestal ||| ['Quick Guide'] ||| []\n",
      "target-folder\\English_EN\\MaxiCharger AC\\Wallbox\\Pedestal\\Quick Guide ||| ['arch'] ||| ['MaxiCharger AC Wallbox Pedestal - Quick Guide_20230223_EN.pdf']\n",
      "target-folder\\English_EN\\MaxiCharger AC\\Wallbox\\Pedestal\\Quick Guide\\arch ||| [] ||| ['Pedestal EP_Quick Guide_20230303_EN.pdf']\n",
      "target-folder\\English_EN\\MaxiCharger AC\\Wallbox\\Pedestal EP ||| ['Quick Guide'] ||| []\n",
      "target-folder\\English_EN\\MaxiCharger AC\\Wallbox\\Pedestal EP\\Quick Guide ||| ['arch'] ||| ['MaxiCharger AC Wallbox Pedestal EP - Quick Guide_20230512_EN.pdf']\n",
      "target-folder\\English_EN\\MaxiCharger AC\\Wallbox\\Pedestal EP\\Quick Guide\\arch ||| [] ||| []\n",
      "target-folder\\English_EN\\MaxiCharger AC\\Maintenance Manual ||| ['arch'] ||| ['Maxicharger AC - Maintenance Manual EU_20220224_EN.pdf']\n",
      "target-folder\\English_EN\\MaxiCharger AC\\Maintenance Manual\\arch ||| [] ||| []\n",
      "target-folder\\English_EN\\MaxiCharger DC ||| ['Compact', 'Fast'] ||| []\n",
      "target-folder\\English_EN\\MaxiCharger DC\\Compact ||| ['Installation and Operation Manual', 'Service Manual', 'Power Modul'] ||| ['DC Compact 40kW - Plate.pdf', 'MaxiCharger DC Compact - Installation and Operation Manual V2.1_20230505_EN.pdf', 'MaxiCharger DC Compact - Service Manual_20230413_EN.pdf', 'R100020G1 Charging Module User Manual.pdf']\n",
      "target-folder\\English_EN\\MaxiCharger DC\\Compact\\Installation and Operation Manual ||| ['arch'] ||| []\n",
      "target-folder\\English_EN\\MaxiCharger DC\\Compact\\Installation and Operation Manual\\arch ||| [] ||| []\n",
      "target-folder\\English_EN\\MaxiCharger DC\\Compact\\Service Manual ||| ['arch'] ||| []\n",
      "target-folder\\English_EN\\MaxiCharger DC\\Compact\\Service Manual\\arch ||| [] ||| []\n",
      "target-folder\\English_EN\\MaxiCharger DC\\Compact\\Power Modul ||| [] ||| []\n",
      "target-folder\\English_EN\\MaxiCharger DC\\Fast ||| ['Installation and Operation Manual', 'Service Manual', 'Power Modul', 'CMS'] ||| []\n",
      "target-folder\\English_EN\\MaxiCharger DC\\Fast\\Installation and Operation Manual ||| ['arch'] ||| ['MaxiCharger DC Fast - Installation and Operation Manual V2_20230517_EN.pdf']\n",
      "target-folder\\English_EN\\MaxiCharger DC\\Fast\\Installation and Operation Manual\\arch ||| [] ||| []\n",
      "target-folder\\English_EN\\MaxiCharger DC\\Fast\\Service Manual ||| ['arch'] ||| ['MaxiCharger DC Fast - Service Manual_20230413_EN.pdf']\n",
      "target-folder\\English_EN\\MaxiCharger DC\\Fast\\Service Manual\\arch ||| [] ||| []\n",
      "target-folder\\English_EN\\MaxiCharger DC\\Fast\\Power Modul ||| [] ||| ['R100020G2 Charging Module User Manual.pdf']\n",
      "target-folder\\English_EN\\MaxiCharger DC\\Fast\\CMS ||| ['Quick Guide'] ||| []\n",
      "target-folder\\English_EN\\MaxiCharger DC\\Fast\\CMS\\Quick Guide ||| ['arch'] ||| ['MaxiCharger DC Fast CMS - Quick Guide_20230512_EN.pdf']\n",
      "target-folder\\English_EN\\MaxiCharger DC\\Fast\\CMS\\Quick Guide\\arch ||| [] ||| []\n"
     ]
    }
   ],
   "source": [
    "for root, dirs, files in os.walk(os.path.join('target-folder', 'English_EN')):\n",
    "    print(root, \"|||\", dirs, \"|||\", files)"
   ]
  },
  {
   "cell_type": "code",
   "execution_count": 14,
   "metadata": {},
   "outputs": [
    {
     "name": "stdout",
     "output_type": "stream",
     "text": [
      "target-folder\\English_EN\\EN_log.csv\n"
     ]
    }
   ],
   "source": [
    "# 目标文件夹根目录\n",
    "target_folder = \"target-folder\"  \n",
    "\n",
    "# 获取所有语言分类子文件夹的路径\n",
    "#lang_folders = [folder for folder in os.listdir(target_folder) if os.path.isdir(os.path.join(target_folder, folder))]\n",
    "#lang_folders.remove('English_EN')\n",
    "\n",
    "lang_folders = ['English_EN']\n",
    "lang_folder = lang_folders[0]\n",
    "lang_code = lang_folder.split(\"_\")[-1]    # EN\n",
    "\n",
    "csv_file = f\"{lang_code}_log.csv\"  # CSV文件名\n",
    "csv_path = os.path.join(target_folder, lang_folder, csv_file)\n",
    "\n",
    "\"\"\"\n",
    "\"\"\"\n",
    "\n",
    "# 打开CSV文件并写入表头\n",
    "with open(csv_path, \"w\", newline=\"\") as file:\n",
    "    writer = csv.writer(file)\n",
    "    writer.writerow([\"language\", \"category\", \"object\", \"document\", \"update\", \"status\"])\n",
    "\n",
    "    print(csv_path)"
   ]
  },
  {
   "cell_type": "code",
   "execution_count": null,
   "metadata": {},
   "outputs": [],
   "source": [
    "\n"
   ]
  },
  {
   "cell_type": "code",
   "execution_count": null,
   "metadata": {},
   "outputs": [],
   "source": [
    "\n",
    "    # 遍历每个文档名称文件夹\n",
    "    for root, dirs, files in os.walk(os.path.join(target_folder, lang_folder)):    \n",
    "\n",
    "        if \"arch\" in dirs:  # 只处理包含arch子文件夹的文档名称文件夹\n",
    "            doc_folder = os.path.join(root, folder)\n",
    "            doc_name = folder.replace(\"arch\", \"\").strip()  # 提取文档名称\n",
    "            product_name = os.path.basename(os.path.dirname(doc_folder))  # 提取产品名称\n",
    "            product_category = os.path.basename(os.path.dirname(os.path.dirname(doc_folder)))  # 提取产品分类\n",
    "\n",
    "            pdf_files = [file for file in files if file.lower().endswith(\".pdf\")]\n",
    "            if pdf_files:\n",
    "                latest_date = max([datetime.strptime(file.split(\"_\")[2], \"%Y%m%d\") for file in pdf_files])\n",
    "                status = \"up-to-date\" if lang_folder == \"English_EN\" else \"out-of-date\"\n",
    "                latest_date_str = datetime.strftime(latest_date, \"%Y%m%d\")\n",
    "            else:\n",
    "                latest_date_str = \"null\"\n",
    "                status = \"null\"\n",
    "\n",
    "            writer.writerow([lang_code, product_category, product_name, doc_name, latest_date_str, status])"
   ]
  },
  {
   "cell_type": "code",
   "execution_count": null,
   "metadata": {},
   "outputs": [],
   "source": [
    "# 遍历每个语言分类子文件夹\n",
    "for lang_folder in language_folders:\n",
    "    lang_code = lang_folder.split(\"_\")[-1]  # 提取语言代码 EN, FR, DE\n",
    "\n",
    "    csv_file = f\"{lang_code}_verification.csv\"  # CSV文件名\n",
    "    csv_path = os.path.join(target_folder, lang_folder, csv_file)\n",
    "\n",
    "    # 打开CSV文件并写入表头\n",
    "    with open(csv_path, \"w\", newline=\"\") as file:\n",
    "        writer = csv.writer(file)\n",
    "        writer.writerow([\"language\", \"category\", \"object\", \"document\", \"update\", \"status\"])\n",
    "\n",
    "        # 遍历每个文档名称文件夹\n",
    "        for root, dirs, files in os.walk(os.path.join(target_folder, lang_folder)):    \n",
    "            # 'target-folder\\\\English_EN'\n",
    "            # ('target-folder\\\\English_EN', ['MaxiCharger AC', 'MaxiCharger DC'], ['EN_verification.csv'])\n",
    "            for folder in dirs:\n",
    "                if \"arch\" in folder:  # 只处理包含arch子文件夹的文档名称文件夹\n",
    "                    doc_folder = os.path.join(root, folder)\n",
    "                    doc_name = folder.replace(\"arch\", \"\").strip()  # 提取文档名称\n",
    "                    product_name = os.path.basename(os.path.dirname(doc_folder))  # 提取产品名称\n",
    "                    product_category = os.path.basename(os.path.dirname(os.path.dirname(doc_folder)))  # 提取产品分类\n",
    "\n",
    "                    pdf_files = [file for file in files if file.lower().endswith(\".pdf\")]\n",
    "                    if pdf_files:\n",
    "                        latest_date = max([datetime.strptime(file.split(\"_\")[2], \"%Y%m%d\") for file in pdf_files])\n",
    "                        status = \"up-to-date\" if lang_folder == \"English_EN\" else \"out-of-date\"\n",
    "                        latest_date_str = datetime.strftime(latest_date, \"%Y%m%d\")\n",
    "                    else:\n",
    "                        latest_date_str = \"null\"\n",
    "                        status = \"null\"\n",
    "\n",
    "                    writer.writerow([lang_code, product_category, product_name, doc_name, latest_date_str, status])"
   ]
  },
  {
   "cell_type": "code",
   "execution_count": null,
   "metadata": {},
   "outputs": [],
   "source": [
    "\n",
    "def folder_miner (dir, file_list):\n",
    "    \n",
    "    new_dir = dir\n",
    "\n",
    "    if os.path.isfile(dir):\n",
    "        file_list.append(dir)\n",
    "    elif os.path.isdir(dir):\n",
    "        for s in os.listdir(dir):\n",
    "            new_dir = os.path.join(dir, s)\n",
    "            folder_miner (new_dir, file_list)\n",
    "    return file_list\n",
    "\n",
    "if __name__=='__main__':\n",
    "    l = folder_miner (root, [])\n",
    "\n",
    "    print(len(l))\n",
    "\n",
    "    for e in l:\n",
    "        print(e)"
   ]
  },
  {
   "cell_type": "code",
   "execution_count": null,
   "metadata": {},
   "outputs": [],
   "source": []
  },
  {
   "cell_type": "code",
   "execution_count": null,
   "metadata": {},
   "outputs": [],
   "source": []
  },
  {
   "cell_type": "code",
   "execution_count": null,
   "metadata": {},
   "outputs": [],
   "source": []
  },
  {
   "cell_type": "code",
   "execution_count": null,
   "metadata": {},
   "outputs": [],
   "source": []
  },
  {
   "cell_type": "code",
   "execution_count": null,
   "metadata": {},
   "outputs": [],
   "source": []
  },
  {
   "cell_type": "code",
   "execution_count": 19,
   "metadata": {},
   "outputs": [
    {
     "data": {
      "text/plain": [
       "['manuals', 'certification']"
      ]
     },
     "execution_count": 19,
     "metadata": {},
     "output_type": "execute_result"
    }
   ],
   "source": [
    "os.listdir(\"material-folder\")"
   ]
  },
  {
   "cell_type": "code",
   "execution_count": 22,
   "metadata": {},
   "outputs": [
    {
     "name": "stdout",
     "output_type": "stream",
     "text": [
      "file-name_20230702_EN\n"
     ]
    }
   ],
   "source": [
    "import datetime\n",
    "\n",
    "# 当天日期\n",
    "current_date = datetime.date.today().strftime(\"%Y%m%d\")\n",
    "# 语言变量\n",
    "language = \"EN\"\n",
    "# 文件名模板\n",
    "filename_template = \"file-name_{0}_{1}\"\n",
    "# 根据模板生成文件名\n",
    "filename = filename_template.format(current_date, language)\n",
    "print(filename)\n"
   ]
  },
  {
   "cell_type": "code",
   "execution_count": null,
   "metadata": {},
   "outputs": [],
   "source": [
    "import os\n",
    "\n",
    "# 原始目录和目标目录\n",
    "source_dir = \"./test-folder/English_EN\\MaxiCharger AC/Wallbox/User Manual\"\n",
    "target_dir = \"./test-folder/English_EN\\MaxiCharger AC/Wallbox/User Manual\"\n",
    "\n",
    "# 遍历源目录下的所有文件\n",
    "for filename in os.listdir(source_dir):\n",
    "    if filename.endswith(\".pdf\"):\n",
    "        # 构建源文件路径和目标文件路径\n",
    "        source_file = os.path.join(source_dir, filename)\n",
    "        target_file = os.path.join(target_dir, filename)\n",
    "        \n",
    "        # 将目标文件路径中的文件名替换为指定的 filename\n",
    "        target_file = os.path.join(target_dir, filename.replace(\".pdf\", \"_\" + filename))\n",
    "        \n",
    "        # 重命名文件\n",
    "        os.rename(source_file, target_file)"
   ]
  },
  {
   "cell_type": "code",
   "execution_count": null,
   "metadata": {},
   "outputs": [],
   "source": []
  }
 ],
 "metadata": {
  "kernelspec": {
   "display_name": "Python 3",
   "language": "python",
   "name": "python3"
  },
  "language_info": {
   "codemirror_mode": {
    "name": "ipython",
    "version": 3
   },
   "file_extension": ".py",
   "mimetype": "text/x-python",
   "name": "python",
   "nbconvert_exporter": "python",
   "pygments_lexer": "ipython3",
   "version": "3.10.11"
  },
  "orig_nbformat": 4
 },
 "nbformat": 4,
 "nbformat_minor": 2
}
